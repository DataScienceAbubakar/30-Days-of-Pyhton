{
 "cells": [
  {
   "cell_type": "code",
   "execution_count": null,
   "metadata": {},
   "outputs": [],
   "source": [
    "def display_message():\n",
    "    print(\"In this chapter, we are learning how to a create and invoke functions in Python.\")\n",
    "\n",
    "# Call the function to display the message\n",
    "display_message()"
   ]
  },
  {
   "cell_type": "markdown",
   "metadata": {},
   "source": [
    "the above code was used in creating a function that tells what we are learning and invoking the function separateely"
   ]
  },
  {
   "cell_type": "code",
   "execution_count": null,
   "metadata": {},
   "outputs": [],
   "source": [
    "def favorite_book(title):\n",
    "    print(f\"One of my favorite books is {title}.\")\n",
    "\n",
    "# Call the function with a specific book title\n",
    "favorite_book(\"Sealed Nectar by Saifurrahman Mubaraqpuri\")"
   ]
  },
  {
   "cell_type": "markdown",
   "metadata": {},
   "source": [
    "The above code creates a function of favorite book. it calls the assigned name of a favorite book and add the 'title' function to Make it a title"
   ]
  },
  {
   "cell_type": "code",
   "execution_count": null,
   "metadata": {},
   "outputs": [],
   "source": [
    "def make_shirt(size='large', message='Coding is sweet'):\n",
    "    print(f\"Creating a {size} shirt with the message: '{message}'\")\n",
    "\n",
    "# Make a large shirt with the default message\n",
    "make_shirt()\n",
    "\n",
    "# Make a medium shirt with the default message\n",
    "make_shirt(size='medium')\n",
    "\n",
    "# Make a shirt of any size with a different message\n",
    "make_shirt(size='small', message='Coding is fun!')"
   ]
  },
  {
   "cell_type": "markdown",
   "metadata": {},
   "source": [
    "the above code displays a short message on a shirt that's being created based on three sizes: large, medium and small "
   ]
  },
  {
   "cell_type": "code",
   "execution_count": null,
   "metadata": {},
   "outputs": [],
   "source": [
    "def describe_city(city, country='Default Country'):\n",
    "    print(f\"{city} is in {country}.\")\n",
    "\n",
    "# Call the function for three different cities\n",
    "describe_city('Reykjavik', 'Iceland')\n",
    "describe_city('Kano', 'Kano')\n",
    "describe_city('Kaduna')  # Uses the default country"
   ]
  },
  {
   "cell_type": "markdown",
   "metadata": {},
   "source": [
    "the above code describes a city by accepting the name and the country of a city, if a country name isn't entered it uses the default country"
   ]
  },
  {
   "cell_type": "code",
   "execution_count": null,
   "metadata": {},
   "outputs": [],
   "source": [
    "def city_country(city, country):\n",
    "    return f\"{city}, {country}\"\n",
    "\n",
    "# Call the function with three city-country pairs and print the returned values\n",
    "print(city_country('Santiago', 'Chile'))\n",
    "print(city_country('Tamale', 'Ghana'))\n",
    "print(city_country('Ouagadogou', 'Burkina Faso'))"
   ]
  },
  {
   "cell_type": "markdown",
   "metadata": {},
   "source": [
    "the above code called city_country is a function that takes in the name of a city and its country. The function should return a string formatted like this: \"Santiago, Chile\" Call your function with at least three city-country pairs, and print the values that are returned."
   ]
  },
  {
   "cell_type": "code",
   "execution_count": null,
   "metadata": {},
   "outputs": [],
   "source": [
    "def make_album(artist, title, songs=None):\n",
    "    album_info = {'artist': artist, 'title': title}\n",
    "    if songs:\n",
    "        album_info['songs'] = songs\n",
    "    return album_info\n",
    "\n",
    "# Make three dictionaries representing different Akon albums\n",
    "album1 = make_album('Akon', 'Freedom', songs=13)\n",
    "album2 = make_album('Akon', 'Konvicted', songs=14)\n",
    "album3 = make_album('Akon', 'Trouble', songs=12)\n",
    "\n",
    "# Print each return value to show that the dictionaries are storing the album information correctly\n",
    "print(album1)\n",
    "print(album2)\n",
    "print(album3)"
   ]
  },
  {
   "cell_type": "markdown",
   "metadata": {},
   "source": [
    "the above code is an album function: Wrote a function called make_album() that builds a dictionary describing a music album. The function should take in an artist name and an album title, and it should return a dictionary containing these two pieces of information. Use the function to make three dictionaries representing different albums. Print each return value to show that the dictionaries are storing the album information correctly. Use None to add an optional parameter to make_album() that allows you to store the number of songs on an album. If the calling line includes a value for the number of songs, add that value to the album’s dictionary. Make at least one new function call that includes the number of songs on an album."
   ]
  },
  {
   "cell_type": "code",
   "execution_count": null,
   "metadata": {},
   "outputs": [],
   "source": [
    "def make_album(artist, title, songs=None):\n",
    "    album_info = {'artist': artist, 'title': title}\n",
    "    if songs:\n",
    "        album_info['songs'] = songs\n",
    "    return album_info\n",
    "\n",
    "while True:\n",
    "    artist_input = input(\"Enter the artist's name (or 'quit' to exit): \")\n",
    "    if artist_input.lower() == 'quit':\n",
    "        break\n",
    "    \n",
    "    title_input = input(\"Enter the album title: \")\n",
    "    \n",
    "    # You can optionally ask for the number of songs here\n",
    "    # songs_input = input(\"Enter the number of songs (optional): \")\n",
    "    \n",
    "    # Call make_album() with the user's input\n",
    "    # If you want to include the number of songs, uncomment the next line and pass the variable\n",
    "    album_info = make_album(artist_input, title_input)\n",
    "    # album_info = make_album(artist_input, title_input, songs=int(songs_input))  # Uncomment if including songs\n",
    "    \n",
    "    # Print the created dictionary\n",
    "    print(album_info)"
   ]
  },
  {
   "cell_type": "markdown",
   "metadata": {},
   "source": [
    "using the function before the aboce code, i wrote a while loop that allows users to enter an album’s artist and title. Once you have that information, call make_album() with the user’s input and print the dictionary that’s created. Be sure to include a quit value in the while loop"
   ]
  },
  {
   "cell_type": "code",
   "execution_count": null,
   "metadata": {},
   "outputs": [],
   "source": [
    "def show_messages(messages):\n",
    "    for message in messages:\n",
    "        print(message)\n",
    "\n",
    "# List of short text messages thanking Arewa Data Science Machine Learning Mentors\n",
    "thank_you_messages = [\n",
    "    \"Thank you, Arewa Data Science Machine Learning Mentors, for the opportunity to learn data scienand ml!\",\n",
    "    \"I am grateful to be part of this cohort!\",\n",
    "    \"Appreciate the support and knowledge-sharing. Learning a lot!\",\n",
    "    \"Feeling fortunate to be part of this learning community. Thank you!\"\n",
    "]\n"
   ]
  },
  {
   "cell_type": "markdown",
   "metadata": {},
   "source": [
    "the above function made a list containing a series of short text messages. Pass the list to a function called show_messages(), which prints each text message"
   ]
  },
  {
   "cell_type": "code",
   "execution_count": null,
   "metadata": {},
   "outputs": [],
   "source": [
    "def show_messages(messages):\n",
    "    for message in messages:\n",
    "        print(message)\n",
    "\n",
    "# List of short text messages thanking Arewa Data Science Machine Learning Mentors\n",
    "thank_you_messages = [\n",
    "    \"Thank you, Arewa Data Science Machine Learning Mentors, for the opportunity to learn data scienand ml!\",\n",
    "    \"I am grateful to be part of this cohort!\",\n",
    "    \"Appreciate the support and knowledge-sharing. Learning a lot!\",\n",
    "    \"Feeling fortunate to be part of this learning community. Thank you!\"\n",
    "]\n",
    "\n",
    "# Create an empty list to store sent messages\n",
    "sent_messages_list = []\n",
    "\n",
    "# Call the function to send messages and move them to the sent_messages list\n",
    "send_messages(thank_you_messages, sent_messages_list)\n",
    "\n",
    "# Print both lists to confirm the messages were moved correctly\n",
    "print(\"\\nOriginal messages:\")\n",
    "show_messages(thank_you_messages)\n",
    "\n",
    "print(\"\\nSent messages:\")\n",
    "show_messages(sent_messages_list)"
   ]
  },
  {
   "cell_type": "markdown",
   "metadata": {},
   "source": [
    "the above function made a list containing a series of short text messages. Pass the list to a function called show_messages(), which prints each text message."
   ]
  },
  {
   "cell_type": "code",
   "execution_count": null,
   "metadata": {},
   "outputs": [],
   "source": [
    "#Sandwiches change to Dutse local food\n",
    "def make_dan_wake(*ingredients):\n",
    "    print(\"\\nMaking a local food with the following ingredients:\")\n",
    "    for ingredient in ingredients:\n",
    "        print(f\"- {ingredient}\")\n",
    "\n",
    "# Call the function three times with a different number of arguments each time\n",
    "make_dan_wake('Tuwon Masara', 'Miyan KUKA')\n",
    "make_dan_wake('TUWON BULA', 'DANGAUDA', 'ALKUBUS')\n",
    "make_dan_wake('WAINA', 'BISKI', 'KUNUN KANWA', 'TAUSHE')"
   ]
  },
  {
   "cell_type": "markdown",
   "metadata": {},
   "source": [
    "THE ABOVE CODE TAEKES IN THE USER DATA OF A SANDWICH MENU AND DISPLAYS THEM IN A CHRONOLOGICAL ORDER ON A LIST\n"
   ]
  },
  {
   "cell_type": "code",
   "execution_count": null,
   "metadata": {},
   "outputs": [],
   "source": [
    "# printing_models.py\n",
    "from printing_functions import print_models, show_completed_models\n",
    "\n",
    "# Sample data of Nigerian products\n",
    "nigerian_products = ['Aso Oke', 'Adire Fabric', 'Chin Chin', 'Nigerian Drum']\n",
    "\n",
    "completed_models = []\n",
    "\n",
    "# Use the imported functions\n",
    "print_models(nigerian_products, completed_models)\n",
    "show_completed_models(completed_models)"
   ]
  },
  {
   "cell_type": "markdown",
   "metadata": {},
   "source": [
    "Printing Models: Put the functions for the example printing_models.py in a separate file called printing_functions.py. Write an import statement at the top of printing_models.py, and modify the file to use the imported functions."
   ]
  }
 ],
 "metadata": {
  "language_info": {
   "name": "python"
  }
 },
 "nbformat": 4,
 "nbformat_minor": 2
}
